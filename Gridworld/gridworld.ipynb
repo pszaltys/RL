{
 "cells": [
  {
   "cell_type": "code",
   "execution_count": 42,
   "metadata": {},
   "outputs": [],
   "source": [
    "import numpy as np\n",
    "import math\n",
    "import matplotlib.pyplot as plt\n",
    "from scipy.optimize import fsolve"
   ]
  },
  {
   "cell_type": "code",
   "execution_count": 43,
   "metadata": {},
   "outputs": [],
   "source": [
    "def eqNonLin(vars):\n",
    "    x = vars\n",
    "\n",
    "    k = lambda i, j : 5 * i + j\n",
    "    fns = []\n",
    "    for i in range(5):\n",
    "        for j in range(5): \n",
    "            L1 = i - 1 < 0\n",
    "            L2 = i + 1 > 4\n",
    "            L3 = j - 1 < 0\n",
    "            L4 = j + 1 > 4\n",
    "\n",
    "            if i == 0 and j == 1:\n",
    "                f = x[i,j] - (0.9*x[k(4,1)]+10)\n",
    "            elif i == 0 and j == 3:\n",
    "                f = x[i,j] - (0.9*x[k(2,3)]+5)\n",
    "            else:\n",
    "                e1 = (x[i,j]-1 if L1 else 0.9*x[k(i-1,j)])\n",
    "                e2 = (x[i,j]-1 if L2 else 0.9*x[k(i+1,j)])\n",
    "                e3 = (x[i,j]-1 if L3 else 0.9*x[k(i,j-1)])\n",
    "                e4 = (x[i,j]-1 if L4 else 0.9*x[k(i,j+1)])\n",
    "                f = x[i,j] - max([e1,e2,e3,e4])\n",
    "\n",
    "            fns.append(f)\n",
    "    return fns"
   ]
  },
  {
   "cell_type": "code",
   "execution_count": 44,
   "metadata": {},
   "outputs": [],
   "source": [
    "x =  fsolve(eqNonLin, tuple(np.ones(25)))"
   ]
  },
  {
   "cell_type": "code",
   "execution_count": 45,
   "metadata": {},
   "outputs": [
    {
     "name": "stdout",
     "output_type": "stream",
     "text": [
      "[[22.  24.4 22.  19.4 17.5]\n",
      " [19.8 22.  19.8 17.8 16. ]\n",
      " [17.8 19.8 17.8 16.  14.4]\n",
      " [16.  17.8 16.  14.4 13. ]\n",
      " [14.4 16.  14.4 13.  11.7]]\n"
     ]
    }
   ],
   "source": [
    "np.set_printoptions(precision=1)\n",
    "print(x.reshape((5,5)))"
   ]
  },
  {
   "cell_type": "code",
   "execution_count": 46,
   "metadata": {},
   "outputs": [],
   "source": [
    "def eqLin(g):\n",
    "    A = np.zeros(25*25).reshape((25,25))\n",
    "    b = np.zeros(25)\n",
    "\n",
    "    k = lambda i, j : 5 * i + j\n",
    "    for i in range(5):\n",
    "        for j in range(5): \n",
    "            L1 = i - 1 < 0\n",
    "            L2 = i + 1 > 4\n",
    "            L3 = j - 1 < 0\n",
    "            L4 = j + 1 > 4\n",
    "\n",
    "            A[i,j, i,j] = 1 - g/4*(L1 + L2 + L3 + L4)\n",
    "            if not L1:\n",
    "                A[i,j, k(i-1,j)] = -g/4\n",
    "            if not L2:\n",
    "                A[i,j, k(i+1,j)] = -g/4\n",
    "            if not L3:\n",
    "                A[i,j, k(i,j-1)] = -g/4\n",
    "            if not L4:\n",
    "                A[i,j, k(i,j+1)] = -g/4\n",
    "\n",
    "            b[i,j] = -(L1 + L2 + L3 + L4)/4\n",
    "\n",
    "    A[k(0,1),:] = 0\n",
    "    A[k(0,1), k(0,1)] = 1\n",
    "    A[k(0,1), k(4,1)] = -g\n",
    "    b[k(0,1)] = 10\n",
    "\n",
    "    A[k(0,3),:] = 0\n",
    "    A[k(0,3), k(0,3)] = 1\n",
    "    A[k(0,3), k(2,3)] = -g\n",
    "    b[k(0,3)] = 5\n",
    "\n",
    "    return A, b"
   ]
  },
  {
   "cell_type": "code",
   "execution_count": 47,
   "metadata": {},
   "outputs": [],
   "source": [
    "A, b = eqLin(0.9)\n",
    "x = np.linalg.solve(A, b)"
   ]
  },
  {
   "cell_type": "code",
   "execution_count": 48,
   "metadata": {},
   "outputs": [
    {
     "name": "stdout",
     "output_type": "stream",
     "text": [
      "[[ 3.3  8.8  4.4  5.3  1.5]\n",
      " [ 1.5  3.   2.3  1.9  0.5]\n",
      " [ 0.1  0.7  0.7  0.4 -0.4]\n",
      " [-1.  -0.4 -0.4 -0.6 -1.2]\n",
      " [-1.9 -1.3 -1.2 -1.4 -2. ]]\n"
     ]
    }
   ],
   "source": [
    "np.set_printoptions(precision=1)\n",
    "print(x.reshape((5,5)))"
   ]
  },
  {
   "cell_type": "code",
   "execution_count": 61,
   "metadata": {},
   "outputs": [],
   "source": [
    "def randomPolicy(state, actionSpace):\n",
    "    return np.full(actionSpace.shape, 1 / len(actionSpace))"
   ]
  },
  {
   "cell_type": "code",
   "execution_count": 59,
   "metadata": {},
   "outputs": [
    {
     "name": "stdout",
     "output_type": "stream",
     "text": [
      "[0.2 0.2 0.2 0.2]\n",
      "(4,)\n",
      "4\n"
     ]
    }
   ],
   "source": [
    "print(randomPolicy(1, np.ones(4)))\n",
    "print(np.ones(4).shape)\n",
    "print(len(np.ones(4)))"
   ]
  },
  {
   "cell_type": "code",
   "execution_count": 160,
   "metadata": {},
   "outputs": [],
   "source": [
    "def policyEvalIter(policy, statesShape, gamma, eps):\n",
    "    v = np.ones(statesShape)\n",
    "    vOld = 0\n",
    "    res = 1.1*eps\n",
    "    iter = 0\n",
    "    k = lambda i, j : 5 * i + j\n",
    "    while True:\n",
    "        res = 0\n",
    "        for i in range(5):\n",
    "            for j in range(5): \n",
    "                vOld = v[i,j]\n",
    "                L1 = i - 1 < 0\n",
    "                L2 = i + 1 > 4\n",
    "                L3 = j - 1 < 0\n",
    "                L4 = j + 1 > 4\n",
    "                actions = randomPolicy(k(i,j), np.ones(4))\n",
    "\n",
    "                if i == 0 and j == 1:\n",
    "                    v[i,j] = 10 + gamma*(v[4,1])\n",
    "                elif i == 0 and j == 3:\n",
    "                    v[i,j] = 5 + gamma*(v[2,3])\n",
    "                else:\n",
    "                    update = 0\n",
    "                    for index, a in np.ndenumerate(actions):\n",
    "                        if index[0] == 0:\n",
    "                            update = update + a * (-1 if L1 else 0 + gamma*(v[i,j] if L1 else v[i-1,j]))\n",
    "                        elif index[0] == 1:\n",
    "                            update = update + a * (-1 if L2 else 0 + gamma*(v[i,j] if L2 else v[i+1,j]))\n",
    "                        elif index[0] == 2:\n",
    "                            update = update + a * (-1 if L3 else 0 + gamma*(v[i,j] if L3 else v[i,j-1]))\n",
    "                        elif index[0] == 3:\n",
    "                            update = update + a * (-1 if L4 else 0 + gamma*(v[i,j] if L4 else v[i,j+1]))\n",
    "                    v[i,j] = update\n",
    "\n",
    "                res = max([res, abs(vOld - v[i,j])])\n",
    "        iter = iter + 1\n",
    "        if res < eps:\n",
    "            break\n",
    "    return v, iter"
   ]
  },
  {
   "cell_type": "code",
   "execution_count": 161,
   "metadata": {},
   "outputs": [],
   "source": [
    "v, iter = policyEvalIter(randomPolicy, (5,5), 0.9, 0.001)"
   ]
  },
  {
   "cell_type": "code",
   "execution_count": 162,
   "metadata": {},
   "outputs": [
    {
     "name": "stdout",
     "output_type": "stream",
     "text": [
      "[[ 1.8  9.5  3.6  5.5  0.8]\n",
      " [ 0.9  3.   2.1  1.9  0.3]\n",
      " [ 0.   0.9  0.8  0.6 -0.2]\n",
      " [-0.4  0.   0.1 -0.1 -0.5]\n",
      " [-0.7 -0.5 -0.5 -0.5 -0.7]]\n",
      "iter = 16\n"
     ]
    }
   ],
   "source": [
    "np.set_printoptions(precision=1, suppress=True)\n",
    "print(v)\n",
    "print(\"iter = {}\".format(iter))"
   ]
  }
 ],
 "metadata": {
  "language_info": {
   "name": "python",
   "nbconvert_exporter": "python"
  },
  "orig_nbformat": 4
 },
 "nbformat": 4,
 "nbformat_minor": 2
}